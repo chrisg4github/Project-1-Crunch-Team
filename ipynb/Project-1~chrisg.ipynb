{
 "cells": [
  {
   "cell_type": "code",
   "execution_count": null,
   "metadata": {
    "collapsed": true
   },
   "outputs": [],
   "source": [
    "##Dependencies\n",
    "from matplotlib.figure import Figure\n",
    "import matplotlib.pyplot as plt\n",
    "import matplotlib.dates as mdates\n",
    "import pandas as pd\n",
    "import numpy as np\n",
    "import seaborn as sns\n",
    "from datetime import datetime\n",
    "import random as rd\n",
    "np.random.seed(sum(map(ord, \"aesthetics\")))"
   ]
  },
  {
   "cell_type": "code",
   "execution_count": null,
   "metadata": {},
   "outputs": [],
   "source": [
    "## Read file and then sort \n",
    "csv_file = \"companies.csv\"\n",
    "companies_df = pd.read_csv(csv_file, encoding=\"iso-8859-1\",\n",
    "                           parse_dates=[\"Founded Date\",\"Closed Date\",\n",
    "                                        \"Last Funding Date\"])\n",
    "companies_df = companies_df.sort_values(\"Company Name\").reset_index(drop=True)\n",
    "companies_df.head(5)\n"
   ]
  },
  {
   "cell_type": "code",
   "execution_count": null,
   "metadata": {},
   "outputs": [],
   "source": [
    "companies_df = companies_df[[\"Company Name\", \"Founded Date\", \"Closed Date\", \n",
    "                             \"Number of Funding Rounds\", \"Last Funding Date\", \n",
    "                             \"Last Funding Amount\", \"Total Funding Amount\", \"Status\"]]\n",
    "companies_df.head(5)"
   ]
  },
  {
   "cell_type": "code",
   "execution_count": null,
   "metadata": {},
   "outputs": [],
   "source": [
    "companies_pf = companies_df.rename(columns={\n",
    "    \"Company Name\" : \"Company\",\n",
    "    \"Number of Funding Rounds\" : \"Funding Rounds\"   \n",
    "})\n",
    "\n",
    "companies_pf.head(5)"
   ]
  },
  {
   "cell_type": "code",
   "execution_count": null,
   "metadata": {},
   "outputs": [],
   "source": [
    "## Read file and then sort \n",
    "funding = \"Funding_Rounds.csv\"\n",
    "funding_df = pd.read_csv(funding, encoding=\"iso-8859-1\", \n",
    "                         parse_dates=[\"Announced On Date\"])\n",
    "funding_df.head(5)\n"
   ]
  },
  {
   "cell_type": "code",
   "execution_count": null,
   "metadata": {},
   "outputs": [],
   "source": [
    "funding_df = funding_df[[\"Company Name\", \"Funding Type\", \"Money Raised\", \n",
    "                         \"Announced On Date\"]]\n",
    "funding_df.head(5)"
   ]
  },
  {
   "cell_type": "code",
   "execution_count": null,
   "metadata": {},
   "outputs": [],
   "source": [
    "funding_pf = funding_df.rename(columns={\n",
    "    \"Company Name\" : \"Company\"\n",
    "})\n",
    "\n",
    "funding_pf.head()"
   ]
  },
  {
   "cell_type": "code",
   "execution_count": null,
   "metadata": {},
   "outputs": [],
   "source": [
    "# Merge companies_pf and funding_pf on Company\n",
    "merged_data = pd.merge(companies_pf, funding_pf,how=\"inner\",on=\"Company\")\n",
    "merged_data.head(5)\n",
    "\n"
   ]
  },
  {
   "cell_type": "code",
   "execution_count": null,
   "metadata": {
    "collapsed": true
   },
   "outputs": [],
   "source": [
    "# Save Data to csv without index, with header\n",
    "merged_data.to_csv(\"merged_company-funding.csv\", index=False, header=True)"
   ]
  },
  {
   "cell_type": "code",
   "execution_count": null,
   "metadata": {},
   "outputs": [],
   "source": [
    "## Read file and then sort \n",
    "org = \"organizations.csv\"\n",
    "org_df = pd.read_csv(org, encoding=\"iso-8859-1\")\n",
    "org_df.head(5)                              "
   ]
  },
  {
   "cell_type": "code",
   "execution_count": null,
   "metadata": {},
   "outputs": [],
   "source": [
    "# Rename columns for readability\n",
    "new_file = org_df.rename(columns={\n",
    "    \"crunchbase_uuid\": \"UUID\",\n",
    "    \"Company Name\" : \"Company\",\n",
    "    \"homepage_url\" : \"Homepage\"   \n",
    "})\n",
    "\n",
    "new_file.head(5)"
   ]
  },
  {
   "cell_type": "code",
   "execution_count": null,
   "metadata": {},
   "outputs": [],
   "source": [
    "new_file = new_file[[\"UUID\", \"Company\", \"Homepage\"]]\n",
    "new_file.head()\n"
   ]
  },
  {
   "cell_type": "code",
   "execution_count": null,
   "metadata": {
    "collapsed": true
   },
   "outputs": [],
   "source": [
    "# Save Data to csv without index, with header\n",
    "new_file.to_csv(\"new_file-org.csv\", index=False, header=True)"
   ]
  },
  {
   "cell_type": "code",
   "execution_count": null,
   "metadata": {},
   "outputs": [],
   "source": [
    "merged_df = pd.merge(merged_data, new_file,how=\"inner\",on=\"Company\")\n",
    "merged_df.head(5)"
   ]
  },
  {
   "cell_type": "code",
   "execution_count": null,
   "metadata": {
    "collapsed": true
   },
   "outputs": [],
   "source": [
    "# Save Data to csv without index, with header\n",
    "merged_df.to_csv(\"merged_company-funding-org.csv\", index=False, header=True)"
   ]
  },
  {
   "cell_type": "code",
   "execution_count": null,
   "metadata": {},
   "outputs": [],
   "source": [
    "# works\n",
    "for i, el in enumerate(merged_df.iterrows()):\n",
    "    val = el[1]['UUID'].replace(\"-\", \"\")\n",
    "    merged_df.set_value(i, \"UUID\", val)\n",
    "merged_df.head(5)"
   ]
  },
  {
   "cell_type": "code",
   "execution_count": null,
   "metadata": {},
   "outputs": [],
   "source": [
    "status = merged_df.groupby('Funding Type')[\"Status\"].value_counts()\n",
    "\n",
    "#g1 = df1.groupby([\"Name\", \"City\"], as_index=False).count()\n",
    "\n",
    "status.head(10)"
   ]
  },
  {
   "cell_type": "code",
   "execution_count": null,
   "metadata": {},
   "outputs": [],
   "source": [
    "df1 = pd.DataFrame(status).rename(columns={\n",
    "    'Status':'Count'})\n",
    "\n",
    "df1.head(20)"
   ]
  },
  {
   "cell_type": "code",
   "execution_count": null,
   "metadata": {},
   "outputs": [],
   "source": [
    "series_d = merged_df[merged_df['Funding Type'] == \"Series D\"]\n",
    "series_d"
   ]
  },
  {
   "cell_type": "code",
   "execution_count": null,
   "metadata": {},
   "outputs": [],
   "source": [
    "funding_df = merged_df[merged_df['Funding Type'] == \"Seed\"]\n",
    "funding_df"
   ]
  },
  {
   "cell_type": "code",
   "execution_count": null,
   "metadata": {},
   "outputs": [],
   "source": [
    "seed = merged_df[merged_df['Status'] == \"Was Acquired\"].count\n",
    "seed_df = merged_df[merged_df['Funding Type'] == \"Seed\"]\n",
    "\n",
    "seed_df = seed_df[seed_df['Status'] == \"Was Acquired\"]\n",
    "\n",
    "seed_df"
   ]
  },
  {
   "cell_type": "code",
   "execution_count": null,
   "metadata": {
    "collapsed": true
   },
   "outputs": [],
   "source": [
    "# # Build a scatter plot for each data type\n",
    "# plt.scatter(seed_df[\"Funding Type\"], \n",
    "#             seed_df[\"Status\"],\n",
    "#             s=100, edgecolor=\"black\", linewidths=1, c=\"red\", marker=\"o\", \n",
    "#             alpha=0.8)\n",
    "\n",
    "# # Incorporate the other graph properties\n",
    "# plt.title(\"Funding Type Status\")\n",
    "# plt.ylabel(\"Funding Type\")\n",
    "# plt.xlabel(\"Status\")\n",
    "# plt.grid(True)\n",
    "\n",
    "# # Save the figure\n",
    "# plt.savefig(\"funding_type_scatter_chart.png\")\n",
    "\n",
    "# # Show plot\n",
    "# plt.show()"
   ]
  },
  {
   "cell_type": "code",
   "execution_count": null,
   "metadata": {
    "collapsed": true
   },
   "outputs": [],
   "source": [
    "# #seed = merged_df[merged_df['Status'] == \"Operating\"]\n",
    "# seed = merged_df[merged_df['Status'] == \"Was Acquired\"]\n",
    "# seed = merged_df[merged_df['Status'] == \"Closed\"]\n",
    "# seed = merged_df[merged_df['Status'] == \"IPO\"]\n",
    "\n",
    "# # # x-axis\n",
    "# seed_operating = seed.groupby([\"Status\"]).count()[\"Closed\"]\n",
    "# # #y-axis\n",
    "# seed_acquired = seed.groupby([\"Status\"]).count()[\"Was Acquired\"]\n",
    "\n",
    "# # # x-axis\n",
    "# seed_closedt = seed.groupby([\"Status\"]).count()[\"Closed\"]\n",
    "# # #y-axis\n",
    "# seed_ips = seed.groupby([\"Status\"]).count()[\"IPO\"]\n",
    "\n",
    "# # # # x-axis\n",
    "# # rural_ride_count = rural_cities.groupby([\"city\"]).count()[\"fare\"]\n",
    "# # # #y-axis\n",
    "# # rural_driver_count = rural_cities.groupby([\"city\"]).mean()[\"driver_count\"]\n",
    "\n",
    "# # # # x-axis\n",
    "# # suburban_ride_count = suburban_cities.groupby([\"city\"]).count()[\"fare\"]\n",
    "# # # #y-axis\n",
    "# # suburban_driver_count = suburban_cities.groupby([\"city\"]).mean()[\"driver_count\"]\n"
   ]
  },
  {
   "cell_type": "code",
   "execution_count": null,
   "metadata": {
    "collapsed": true
   },
   "outputs": [],
   "source": []
  },
  {
   "cell_type": "code",
   "execution_count": null,
   "metadata": {},
   "outputs": [],
   "source": [
    "funding_sum = merged_df.groupby('Funding Type')[\"Money Raised\"].sum()\n",
    "funding_sum.head(10)"
   ]
  },
  {
   "cell_type": "code",
   "execution_count": null,
   "metadata": {},
   "outputs": [],
   "source": [
    "fig = plt.figure()\n",
    "ax = fig.add_subplot(111)\n",
    "\n",
    "types_area = [\"Seed\", \"Series A\", \"Series B\", \"Series C\",\"Series D\" ]\n",
    "numbers = funding_sum\n",
    "colors = [\"gold\", \"green\", \"lightskyblue\", \"blue\", \"red\"]\n",
    "explode = (0, 0.05, 0, 0, 0)\n",
    "\n",
    "x_axis = np.arange(0, len(types_area))\n",
    "\n",
    "ax.set_title(\"% Average Funding for Startups\")\n",
    "ax.pie(numbers, explode=explode, labels=types_area, colors=colors,\n",
    "       autopct=\"%1.1f%%\", shadow=True, startangle=90)\n",
    "ax.axis(\"equal\")\n",
    "\n",
    "# Save the figure\n",
    "plt.savefig(\"funding_type_sum_pie_chart.png\")\n",
    "\n",
    "plt.show()"
   ]
  },
  {
   "cell_type": "code",
   "execution_count": null,
   "metadata": {},
   "outputs": [],
   "source": [
    "# sum of counts is 10278\n",
    "funding_pct = merged_df.groupby('Funding Type')[\"Money Raised\"].count()\n",
    "funding_pct.head()\n"
   ]
  },
  {
   "cell_type": "code",
   "execution_count": 28,
   "metadata": {},
   "outputs": [
    {
     "data": {
      "image/png": "[encoded data removed]",
      "text/plain": [
       "<matplotlib.figure.Figure at 0xd4bbf28>"
      ]
     },
     "metadata": {},
     "output_type": "display_data"
    }
   ],
   "source": [
    "fig = plt.figure(figsize=[8, 8])\n",
    "ax = fig.add_subplot(111)\n",
    "\n",
    "types_area = [\"Seed\", \"Series A\", \"Series B\", \"Series C\",\"Series D\" ]\n",
    "numbers = funding_pct\n",
    "colors = [\"gold\", \"lightcoral\", \"cyan\", \"lightgreen\", \"lightskyblue\"]\n",
    "explode = (0.05, 0, 0, 0, 0)\n",
    "\n",
    "x_axis = np.arange(0, len(types_area))\n",
    "\n",
    "ax.set_title(\"Funding Type Percentage for Startups\", weight='bold')\n",
    "\n",
    "ax.pie(numbers, explode=explode, \n",
    "       labels=types_area, colors=colors,\n",
    "       autopct=\"%1.2f%%\", textprops={'weight': 'bold'}, \n",
    "       shadow=True, startangle=30)\n",
    "\n",
    "ax.axis(\"equal\")\n",
    "\n",
    "# Save the figure\n",
    "plt.savefig(\"funding_type_count_pie_chart.png\")\n",
    "plt.show()"
   ]
  },
  {
   "cell_type": "code",
   "execution_count": null,
   "metadata": {
    "collapsed": true
   },
   "outputs": [],
   "source": []
  }
 ],
 "metadata": {
  "kernelspec": {
   "display_name": "Python 3",
   "language": "python",
   "name": "python3"
  },
  "language_info": {
   "codemirror_mode": {
    "name": "ipython",
    "version": 3
   },
   "file_extension": ".py",
   "mimetype": "text/x-python",
   "name": "python",
   "nbconvert_exporter": "python",
   "pygments_lexer": "ipython3",
   "version": "3.6.1"
  }
 },
 "nbformat": 4,
 "nbformat_minor": 2
}
