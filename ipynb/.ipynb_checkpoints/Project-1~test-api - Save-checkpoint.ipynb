{
 "cells": [
  {
   "cell_type": "code",
   "execution_count": null,
   "metadata": {
    "collapsed": true
   },
   "outputs": [],
   "source": [
    "##Dependencies\n",
    "from matplotlib.figure import Figure\n",
    "import matplotlib.pyplot as plt\n",
    "import matplotlib.dates as mdates\n",
    "import pandas as pd\n",
    "import numpy as np\n",
    "import seaborn as sns\n",
    "from datetime import datetime\n",
    "import random as rd\n",
    "\n",
    "np.random.seed(sum(map(ord, \"aesthetics\")))\n",
    "\n",
    "##\n",
    "## https://data.crunchbase.com/v3/reference - Crunchbase endpoint documenation\n",
    "##"
   ]
  },
  {
   "cell_type": "code",
   "execution_count": null,
   "metadata": {},
   "outputs": [],
   "source": [
    "## odm-organizations  Single request to view json structure\n",
    "## Basic request.get to https://api.crunchbase.com/v/3/odm-organizations?\n",
    "import json\n",
    "import requests as req\n",
    "\n",
    "# Created my api key for Crunchbase\n",
    "url = \"https://api.crunchbase.com/v/3/odm-organizations?user_key=\"\n",
    "api_key = \"8a3efb5b5136f95bff0593ebb94994e3\"\n",
    "\n",
    "# Build query URL\n",
    "query_url = url + api_key\n",
    "\n",
    "# Get Crunchbase data\n",
    "org_json = req.get(query_url).json()\n",
    "\n",
    "# Get the temperature from the response\n",
    "print(\"The Crunchbase API responded with: \" + json.dumps(org_json, indent=2) + \".\")\n",
    "print(\"org_json keys: \", org_json.keys())\n",
    "print(len(org_json))\n"
   ]
  },
  {
   "cell_type": "code",
   "execution_count": null,
   "metadata": {},
   "outputs": [],
   "source": [
    "#creates a new dataframe that's empty\n",
    "org_df = pd.DataFrame() \n",
    "org_df[\"name\"] = \"\"\n",
    "org_df[\"short_description\"] = \"\"\n",
    "org_df[\"homepage_url\"] = \"\"\n",
    "org_df[\"uuid\"] = \"\"\n",
    "\n",
    "index = 0\n",
    "\n",
    "#org_json[\"data\"][\"items\"][0 ][\"properties\"][\"name\"]\n",
    "#print(len(org_json[\"data\"][\"paging\"]))\n",
    "#print(len(org_json[\"data\"][\"items\"]))\n",
    "#print(org_json[\"data\"][\"paging\"])\n",
    "#print(org_json[\"data\"][\"items\"])\n",
    "#print(len(org_json[\"data\"][\"items\"]))\n",
    "\n",
    "# Created my api key for Crunchbase\n",
    "url = \"https://api.crunchbase.com/v/3/odm-organizations?user_key=\"\n",
    "api_key = \"8a3efb5b5136f95bff0593ebb94994e3\"\n",
    "\n",
    "# get 10 pages of org items\n",
    "for x in range(1,11):\n",
    "    # Build query URL\n",
    "    query_url = url + api_key + \"&page=\" + str(x)\n",
    "    # Get Crunchbase data\n",
    "    org_json = req.get(query_url).json()\n",
    "    print(query_url)\n",
    "\n",
    "    # Loop through a page of items \n",
    "    for i in range(0,len(people_json[\"data\"][\"items\"])):\n",
    "        # Save the user class info into variables\n",
    "        oname  = org_json[\"data\"][\"items\"][i][\"properties\"][\"name\"]\n",
    "        sdesc  = org_json[\"data\"][\"items\"][i][\"properties\"][\"short_description\"]\n",
    "        hp_url = org_json[\"data\"][\"items\"][i][\"properties\"][\"homepage_url\"]\n",
    "        ouuid  = org_json[\"data\"][\"items\"][i][\"uuid\"]\n",
    "               \n",
    "        # Set the cell info for Real Name, Tweets, Followers, Following, Favorites Count\n",
    "        org_df.set_value(index, \"name\", oname)\n",
    "        org_df.set_value(index, \"short_description\", sdesc)\n",
    "        org_df.set_value(index, \"homepage_url\", hp_url)\n",
    "        org_df.set_value(index, \"uuid\", ouuid)\n",
    "        index += 1\n",
    "\n",
    "org_df.sort_values(\"uuid\")    \n",
    "org_df.head(10)   \n"
   ]
  },
  {
   "cell_type": "code",
   "execution_count": null,
   "metadata": {},
   "outputs": [],
   "source": [
    "print(len(org_df.index))"
   ]
  },
  {
   "cell_type": "code",
   "execution_count": null,
   "metadata": {},
   "outputs": [],
   "source": [
    "## odm-people  Single request to view json structure\n",
    "## Basic request.get to https://api.crunchbase.com/v/3/odm-people?\n",
    "import json\n",
    "import requests as req\n",
    "\n",
    "# Created my api key for Crunchbase\n",
    "url = \"https://api.crunchbase.com/v/3/odm-people?user_key=\"\n",
    "api_key = \"8a3efb5b5136f95bff0593ebb94994e3\"\n",
    "\n",
    "# Build query URL\n",
    "query_url = url + api_key\n",
    "\n",
    "# Get weather data\n",
    "people_json = req.get(query_url).json()\n",
    "\n",
    "# Get the temperature from the response\n",
    "print(\"The Crunchbase API responded with: \" + json.dumps(people_json, indent=2) + \".\")\n",
    "print(\"people_json keys: \", people_json.keys())\n",
    "print(len(people_json))\n"
   ]
  },
  {
   "cell_type": "code",
   "execution_count": null,
   "metadata": {},
   "outputs": [],
   "source": [
    "#creates a new dataframe that's empty\n",
    "people_df = pd.DataFrame() \n",
    "people_df[\"first_name\"] = \"\"\n",
    "people_df[\"last_name\"] = \"\"\n",
    "people_df[\"title\"] = \"\"\n",
    "people_df[\"organization_name\"] = \"\"\n",
    "people_df[\"uuid\"] = \"\"\n",
    "\n",
    "index = 0\n",
    "\n",
    "# people_json[\"data\"][\"items\"][0 ][\"properties\"][\"first_name\"]\n",
    "\n",
    "# Created my api key for Crunchbase\n",
    "url = \"https://api.crunchbase.com/v/3/odm-people?user_key=\"\n",
    "api_key = \"8a3efb5b5136f95bff0593ebb94994e3\"\n",
    "\n",
    "# get 10 pages of people items\n",
    "for x in range(1,11):\n",
    "    # Build query URL\n",
    "    query_url = url + api_key + \"&page=\" + str(x)\n",
    "    # Get Crunchbase data\n",
    "    people_json = req.get(query_url).json()\n",
    "    print(query_url)\n",
    "\n",
    "    # Loop through elements\n",
    "    for i in range(0,len(people_json[\"data\"][\"items\"])):\n",
    "        # Save the user class info into variables\n",
    "        fname  = people_json[\"data\"][\"items\"][i][\"properties\"][\"first_name\"]\n",
    "        lname  = people_json[\"data\"][\"items\"][i][\"properties\"][\"last_name\"]\n",
    "        ptitle = people_json[\"data\"][\"items\"][i][\"properties\"][\"title\"]\n",
    "        oname  = people_json[\"data\"][\"items\"][i][\"properties\"][\"organization_name\"]\n",
    "        puuid  = people_json[\"data\"][\"items\"][i][\"uuid\"]\n",
    "               \n",
    "        # Set the cell info for Real Name, Tweets, Followers, Following, Favorites Count\n",
    "        people_df.set_value(index, \"first_name\", fname)\n",
    "        people_df.set_value(index, \"last_name\", lname)\n",
    "        people_df.set_value(index, \"title\", ptitle)\n",
    "        people_df.set_value(index, \"organization_name\", oname)\n",
    "        people_df.set_value(index, \"uuid\", puuid)\n",
    "        index += 1\n",
    "    \n",
    "people_df.sort_values(\"uuid\")\n",
    "people_df.head(10)  \n"
   ]
  },
  {
   "cell_type": "code",
   "execution_count": null,
   "metadata": {},
   "outputs": [],
   "source": [
    "print(len(people_df.index))  \n"
   ]
  },
  {
   "cell_type": "code",
   "execution_count": null,
   "metadata": {
    "collapsed": true
   },
   "outputs": [],
   "source": []
  }
 ],
 "metadata": {
  "kernelspec": {
   "display_name": "Python 3",
   "language": "python",
   "name": "python3"
  },
  "language_info": {
   "codemirror_mode": {
    "name": "ipython",
    "version": 3
   },
   "file_extension": ".py",
   "mimetype": "text/x-python",
   "name": "python",
   "nbconvert_exporter": "python",
   "pygments_lexer": "ipython3",
   "version": "3.6.1"
  }
 },
 "nbformat": 4,
 "nbformat_minor": 2
}
