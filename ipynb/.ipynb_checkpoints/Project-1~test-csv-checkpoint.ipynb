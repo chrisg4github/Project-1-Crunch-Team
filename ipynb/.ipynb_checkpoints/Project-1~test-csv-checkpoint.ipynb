{
 "cells": [
  {
   "cell_type": "code",
   "execution_count": null,
   "metadata": {
    "collapsed": true
   },
   "outputs": [],
   "source": [
    "##Dependencies\n",
    "from matplotlib.figure import Figure\n",
    "import matplotlib.pyplot as plt\n",
    "import matplotlib.dates as mdates\n",
    "import pandas as pd\n",
    "import numpy as np\n",
    "import seaborn as sns\n",
    "from datetime import datetime\n",
    "import random as rd\n",
    "np.random.seed(sum(map(ord, \"aesthetics\")))\n",
    "\n",
    "##\n",
    "## https://data.crunchbase.com/v3/reference - Crunchbase endpoint documenation\n",
    "## \n",
    "\n",
    "## https://git-lfs.github.com/ GitHub Large file storage"
   ]
  },
  {
   "cell_type": "code",
   "execution_count": null,
   "metadata": {
    "collapsed": true
   },
   "outputs": [],
   "source": [
    "## Read file and then sort \n",
    "csv_file = \"../all_companies.csv\"\n",
    "companies_df = pd.read_csv(csv_file, encoding=\"iso-8859-1\",\n",
    "                           parse_dates=[\"Founded Date\",\"Closed Date\",\"Last Funding Date\"])\n",
    "companies_df = companies_df.sort_values(\"Company Name\").reset_index(drop=True)\n",
    "print(len(companies_df.index))\n",
    "companies_df.head(5)"
   ]
  },
  {
   "cell_type": "code",
   "execution_count": null,
   "metadata": {
    "collapsed": true
   },
   "outputs": [],
   "source": [
    "# convert this to a number and fill NaN with zeros\n",
    "#crunch_df[\"Number of Funding Rounds\"] = crunch_df[\"Number of Funding Rounds\"].fillna(value= 0).astype(int)\n",
    "\n",
    "\n",
    "# convert these to a float - fails due to unreadable characters\n",
    "companies_df[\"Last Funding Amount\"] = companies_df[\"Last Funding Amount\"].str.strip() \\\n",
    "                                                   .replace('[\\$,]','', regex=True ).astype(np.float64)\n",
    "\n",
    "#     # convert these to a float - fails due to unreadable characters\n",
    "# crunch_df[\"Last Equity Funding Amount\"] = crunch_df[\"Last Equity Funding Amount\"].str.strip() \\\n",
    "#                                         .replace('[\\$,ä\\x89åkrz\\x8\\xXX]','', regex=True ) #.astype(np.float64)\n",
    "# convert these to a float\n",
    "# crunch_df[\"Total Equity Funding Amount\"] = crunch_df[\"Total Equity Funding Amount\"].str.strip() \\\n",
    "#                                                      .replace('[\\$,]','', regex=True ).astype(np.float64)\n",
    "# convert these to a float\n",
    "companies_df[\"Total Funding Amount\"] = companies_df[\"Total Funding Amount\"].str.strip() \\\n",
    "                                                    .replace('[\\$,]','', regex=True ).astype(np.float64)\n",
    "\n",
    "# save these snippets    \n",
    "#.str.strip().astype(np.float64)\n",
    "#.fillna(value= 0).astype(float)\n",
    "\n",
    "#crunch_df.dtypes\n",
    "\n",
    "companies_df"
   ]
  },
  {
   "cell_type": "code",
   "execution_count": null,
   "metadata": {
    "collapsed": true
   },
   "outputs": [],
   "source": [
    "## Read file and then sort \n",
    "csv_file = \"../all_rounds_funding.csv\"\n",
    "rdsfund_df = pd.read_csv(csv_file, encoding=\"iso-8859-1\",\n",
    "                         parse_dates=[\"Founded Date\",\"Closed Date\",\"Last Funding Date\"])\n",
    "#allrdsfund_df = allrdsfund_df.sort_values(\"Company Name\").reset_index(drop=True)\n",
    "print(len(rdsfund_df.index))\n",
    "rdsfund_df.head(5)"
   ]
  },
  {
   "cell_type": "code",
   "execution_count": null,
   "metadata": {
    "collapsed": true
   },
   "outputs": [],
   "source": [
    "# convert this to a number and fill NaN with zeros\n",
    "#crunch_df[\"Number of Funding Rounds\"] = crunch_df[\"Number of Funding Rounds\"].fillna(value= 0).astype(int)\n",
    "# rdsfund_df[\"Last Funding Amount\"] = rdsfund_df[\"Last Funding Amount\"] \\\n",
    "#                                       .replace('[\\$,\\x89âÂ©Rå£´_kr\\x89âÂ]','', regex=True ).astype(np.float64)\n",
    "\n",
    "# convert these to a float - fails due to unreadable characters\n",
    "# rdsfund_df[\"Last Funding Amount\"] = rdsfund_df[\"Last Funding Amount\"] \\\n",
    "#                                       .replace('[\\$,x89âÂ©Rå£´_krx89âÂ\\x]','', regex=True ).astype(np.float64)\n",
    "\n",
    "# # convert these to a float - fails due to unreadable characters\n",
    "# rdsfund_df[\"Last Equity Funding Amount\"] = rdsfund_df[\"Last Equity Funding Amount\"] \\\n",
    "#                                       .replace('[\\$,\\x89âÂ©Rå£´_krx89âÂ]','', regex=True ).astype(np.float64)\n",
    "# convert these to a float\n",
    "rdsfund_df[\"Total Equity Funding Amount\"] = rdsfund_df[\"Total Equity Funding Amount\"] \\\n",
    "                                                       .replace('[\\$,]','', regex=True ).astype(np.float64)\n",
    "# convert these to a float\n",
    "rdsfund_df[\"Total Funding Amount\"] = rdsfund_df[\"Total Funding Amount\"] \\\n",
    "                                                .replace('[\\$,]','', regex=True ).astype(np.float64)\n",
    "\n",
    "# save these snippets    \n",
    "#.str.strip().astype(np.float64)\n",
    "#.fillna(value= 0).astype(float)\n",
    "\n",
    "#crunch_df.dtypes\n",
    "\n",
    "rdsfund_df"
   ]
  },
  {
   "cell_type": "code",
   "execution_count": null,
   "metadata": {
    "collapsed": true
   },
   "outputs": [],
   "source": [
    "## Read file and then sort \n",
    "## UTF-8 is a multibyte encoding that can represent any Unicode character. \n",
    "## ISO 8859-1 is a single-byte encoding that can represent the first 256 \n",
    "## Unicode characters. Both encode ASCII exactly the same way.\n",
    "# dtype={\"Last Funding Amount\":np.float64}, \n",
    "# cp1252 | iso-8859-1 | latin1 | utf-8 | utf-16\n",
    "csv_file = \"../all_data.csv\"\n",
    "crunch_df = pd.read_csv(csv_file, encoding=\"iso-8859-1\",\n",
    "                        parse_dates=[\"Founded Date\",\"Closed Date\",\"Last Funding Date\"])\n",
    "crunch_df = crunch_df.sort_values(\"Company Name\").reset_index(drop=True)\n",
    "print(len(crunch_df.index))\n",
    "crunch_df.head(5)\n"
   ]
  },
  {
   "cell_type": "code",
   "execution_count": null,
   "metadata": {
    "collapsed": true
   },
   "outputs": [],
   "source": [
    "# convert this to a number and fill NaN with zeros\n",
    "crunch_df[\"Number of Funding Rounds\"] = crunch_df[\"Number of Funding Rounds\"].fillna(value= 0).astype(int)\n",
    "\n",
    "\n",
    "# convert these to a float - fails due to unreadable characters\n",
    "# crunch_df[\"Last Funding Amount\"] = crunch_df[\"Last Funding Amount\"].str.strip() \\\n",
    "#                                  .replace('[\\$,ä\\x89åkrz\\x8\\xXX]','', regex=True ) #.astype(np.float64)\n",
    "\n",
    "#     # convert these to a float - fails due to unreadable characters\n",
    "# crunch_df[\"Last Equity Funding Amount\"] = crunch_df[\"Last Equity Funding Amount\"].str.strip() \\\n",
    "#                                         .replace('[\\$,ä\\x89åkrz\\x8\\xXX]','', regex=True ) #.astype(np.float64)\n",
    "# convert these to a float\n",
    "crunch_df[\"Total Equity Funding Amount\"] = crunch_df[\"Total Equity Funding Amount\"].str.strip() \\\n",
    "                                                     .replace('[\\$,]','', regex=True ).astype(np.float64)\n",
    "# convert these to a float\n",
    "crunch_df[\"Total Funding Amount\"] = crunch_df[\"Total Funding Amount\"].str.strip() \\\n",
    "                                              .replace('[\\$,]','', regex=True ).astype(np.float64)\n",
    "\n",
    "# save these snippets    \n",
    "#.str.strip().astype(np.float64)\n",
    "#.fillna(value= 0).astype(float)\n",
    "\n",
    "#crunch_df.dtypes\n",
    "\n",
    "crunch_df"
   ]
  },
  {
   "cell_type": "code",
   "execution_count": null,
   "metadata": {
    "collapsed": true
   },
   "outputs": [],
   "source": [
    "# Rename columns so they are easier to use\n",
    "crunch_df.rename(columns={\"Company Name\":\"company_name\",\n",
    "                          \"Company Name URL\":\"url\",\n",
    "                          \"Category Groups\":\"cat_group\",\n",
    "                          \"Headquarters Location\":\"hq_location\",\n",
    "                          \"Description\":\"desc\",\n",
    "                          \"Crunchbase Rank\":\"crunch_rank\",\n",
    "                          \"Founded Date\":\"founded_date\",\n",
    "                          \"Closed Date\":\"closed_date\",\n",
    "                          \"Status\":\"status\",\n",
    "                          \"Number of Employees\":\"emp_count\",\n",
    "                          \"Number of Funding Rounds\":\"fund_rnd_cnt\",\n",
    "                          \"Last Funding Date\":\"last_fund_date\",\n",
    "                          \"Last Funding Amount\":\"last_fund_amt\",\n",
    "                          \"Last Funding Type\":\"last_fund_type\",\n",
    "                          \"Last Equity Funding Amount\":\"last_eqty_fund_amt\",\n",
    "                          \"Total Equity Funding Amount\":\"tot_eqty_fund_amt\",\n",
    "                          \"Total Funding Amount\":\"tot_fund_amt\"},inplace=True)\n",
    "crunch_df.head(5)"
   ]
  },
  {
   "cell_type": "code",
   "execution_count": null,
   "metadata": {
    "collapsed": true
   },
   "outputs": [],
   "source": [
    "# 127 records with Status == \"Closed\"\n",
    "closed_df = crunch_df.loc[crunch_df[\"status\"] == \"Closed\"]\n",
    "closed_df.head(5)\n",
    "#print(len(closed_df.index))"
   ]
  },
  {
   "cell_type": "code",
   "execution_count": null,
   "metadata": {
    "collapsed": true
   },
   "outputs": [],
   "source": [
    "# 8360 records with Status == \"Operating\"\n",
    "oper_df = crunch_df.loc[crunch_df[\"status\"] == \"Operating\"]\n",
    "oper_df.head(5)\n",
    "#print(len(oper_df.index))"
   ]
  },
  {
   "cell_type": "code",
   "execution_count": null,
   "metadata": {
    "collapsed": true
   },
   "outputs": [],
   "source": [
    "funding_type = crunch_df[\"last_fund_type\"].value_counts()\n",
    "funding_type"
   ]
  },
  {
   "cell_type": "code",
   "execution_count": null,
   "metadata": {
    "collapsed": true
   },
   "outputs": [],
   "source": [
    "crunch_df.dtypes"
   ]
  },
  {
   "cell_type": "code",
   "execution_count": null,
   "metadata": {},
   "outputs": [],
   "source": [
    "## Web scraping program\n",
    "##\n",
    "\n",
    "## https://github.com/douglasmiranda/splinter-examples/blob/master/another_examples/screenshot.py\n",
    "## http://splinter.readthedocs.io/en/latest/tutorial.html\n",
    "\n",
    "from splinter import Browser\n",
    "import csv\n",
    "from bs4 import BeautifulSoup \n",
    "import time\n",
    "\n",
    "# browser = Browser('chrome')\n",
    "# browser = Browser('firefox')\n",
    "\n",
    "with Browser() as browser:\n",
    "    # Visit URL\n",
    "    #url = \"https://www.similarweb.com/website/\" \n",
    "    #url_suffix = \"#overview\"\n",
    "    \n",
    "    # loop thru the urls in data frame\n",
    "    counter = 0\n",
    "    #for index, row in companies_df.iterrows():\n",
    "    for i in range(0,1):\n",
    "        counter += 1\n",
    "        if counter == 2:\n",
    "            break\n",
    "        try:\n",
    "            # temp url for testing\n",
    "            t_url = \"https://www.similarweb.com/website/shotput.com#overview\"\n",
    "            # Use url from data frame\n",
    "            #url = row[\"Company Name URL\"]\n",
    "            print(t_url)\n",
    "            browser.visit(t_url)\n",
    "            time.sleep(30)\n",
    "            html = browser.html\n",
    "            soup = BeautifulSoup(html, \"html.parser\")\n",
    "            \n",
    "            print(\"Before the soup.prettify\")\n",
    "            \n",
    "            print(soup.prettify())\n",
    "            \n",
    "            #span class=\"rankingItem-value js-countable\"\n",
    "            print(\"********  Start for loop to read soup  ********\")\n",
    "            for line in soup.findAll('div', class_=\"rankingItem-underTitle\"):\n",
    "                # Append to a file or write to a data frame\n",
    "                print(\"********  in soup for loop line first read is  ********\")\n",
    "                print(line)\n",
    "                # Write to a file\n",
    "                with open('mystats.csv', 'a') as csvfile:\n",
    "                    csvwriter = csv.writer(csvfile, delimiter=',')\n",
    "                    csvwriter.writerow(line)\n",
    "            \n",
    "            for line in soup.findAll('span', class_=\"rankingItem-value js-countable\"):\n",
    "                # Append to a file or write to a data frame\n",
    "                print(\"********  in soup for loop line second read is  ********\")\n",
    "                print(line)\n",
    "                # Write to a file\n",
    "                with open('mystats.csv', 'a') as csvfile:\n",
    "                    csvwriter = csv.writer(csvfile, delimiter=',')\n",
    "                    csvwriter.writerow(line)\n",
    "            \n",
    "            # Grab a tag from the html (ul', class_=\"score\")\n",
    "            for line in soup.findAll('span', class_=\"engagementInfo-valueNumber\"):\n",
    "                # Append to a file or write to a data frame\n",
    "                print(\"********  in soup for loop line third read is  ********\")\n",
    "                print(line)\n",
    "                # Write to a file\n",
    "                with open('mystats.csv', 'a') as csvfile:\n",
    "                    csvwriter = csv.writer(csvfile, delimiter=',')\n",
    "                    csvwriter.writerow(line)\n",
    "        \n",
    "#                     # Write to the the data frame                \n",
    "#                     # Save the json info into variables\n",
    "#                     html_tag  = user_account[\"tag_name\"]\n",
    "#                     html_text = user_account[\"tag_text\"]\n",
    "                \n",
    "#                     # Set the data frame info \n",
    "#                     companies_df.set_value(index, \"col1\", html_tag)\n",
    "#                     companies_df.set_value(index, \"col2\", html_text)\n",
    "        except:\n",
    "            print(\"Error with url: \", t_url)\n",
    "## https://www.similarweb.com/website/shotput.com#overview \n"
   ]
  },
  {
   "cell_type": "code",
   "execution_count": null,
   "metadata": {
    "collapsed": true
   },
   "outputs": [],
   "source": []
  }
 ],
 "metadata": {
  "kernelspec": {
   "display_name": "Python 3",
   "language": "python",
   "name": "python3"
  },
  "language_info": {
   "codemirror_mode": {
    "name": "ipython",
    "version": 3
   },
   "file_extension": ".py",
   "mimetype": "text/x-python",
   "name": "python",
   "nbconvert_exporter": "python",
   "pygments_lexer": "ipython3",
   "version": "3.6.1"
  }
 },
 "nbformat": 4,
 "nbformat_minor": 2
}
